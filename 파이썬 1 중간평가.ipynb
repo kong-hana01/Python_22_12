{
 "cells": [
  {
   "cell_type": "markdown",
   "id": "a2ddfeb5",
   "metadata": {},
   "source": [
    "# 1월 3일 파이썬 1 파이썬 기본 문법 테스트\n",
    "- 입력 조건을 별도로 설정해주지 않는 경우에는 일반적으로 주어질 것 같은 파라미터 타입이나 값만 주어진다는 것을 가정하여 문제를 해결하시면 됩니다. \n",
    "- 예를 들어 ‘정수 n을 입력받는다.’라는 의미는 그 외의 문자열이나 실수값은 입력받지 않는다는 것을 가정합니다.\n",
    "- 아래의 주석으로 test가 적혀있는 cell이 에러 없이 동작하는 경우에 test가 성공한 것입니다. test cell은 건드리지 마십시오."
   ]
  },
  {
   "cell_type": "code",
   "execution_count": 3,
   "id": "d98395a5",
   "metadata": {},
   "outputs": [],
   "source": [
    "def test():\n",
    "    return \"테스트용 코드입니다.\""
   ]
  },
  {
   "cell_type": "code",
   "execution_count": 11,
   "id": "2e963244",
   "metadata": {},
   "outputs": [],
   "source": [
    "# test\n",
    "# 성공 예시\n",
    "assert test() == \"테스트용 코드입니다.\""
   ]
  },
  {
   "cell_type": "code",
   "execution_count": 5,
   "id": "9f863cf0",
   "metadata": {},
   "outputs": [
    {
     "ename": "NameError",
     "evalue": "name 'test1' is not defined",
     "output_type": "error",
     "traceback": [
      "\u001b[1;31m---------------------------------------------------------------------------\u001b[0m",
      "\u001b[1;31mNameError\u001b[0m                                 Traceback (most recent call last)",
      "\u001b[1;32m~\\AppData\\Local\\Temp\\ipykernel_2376\\870566415.py\u001b[0m in \u001b[0;36m<module>\u001b[1;34m\u001b[0m\n\u001b[1;32m----> 1\u001b[1;33m \u001b[1;32massert\u001b[0m \u001b[0mtest1\u001b[0m\u001b[1;33m(\u001b[0m\u001b[1;33m)\u001b[0m \u001b[1;33m==\u001b[0m \u001b[1;34m\"테스트용 코드입니다.\"\u001b[0m\u001b[1;33m\u001b[0m\u001b[1;33m\u001b[0m\u001b[0m\n\u001b[0m",
      "\u001b[1;31mNameError\u001b[0m: name 'test1' is not defined"
     ]
    }
   ],
   "source": [
    "assert test1() == \"테스트용 코드입니다.\""
   ]
  },
  {
   "cell_type": "code",
   "execution_count": 6,
   "id": "d7040ceb",
   "metadata": {},
   "outputs": [
    {
     "ename": "AssertionError",
     "evalue": "",
     "output_type": "error",
     "traceback": [
      "\u001b[1;31m---------------------------------------------------------------------------\u001b[0m",
      "\u001b[1;31mAssertionError\u001b[0m                            Traceback (most recent call last)",
      "\u001b[1;32m~\\AppData\\Local\\Temp\\ipykernel_2376\\751063437.py\u001b[0m in \u001b[0;36m<module>\u001b[1;34m\u001b[0m\n\u001b[1;32m----> 1\u001b[1;33m \u001b[1;32massert\u001b[0m \u001b[0mtest\u001b[0m\u001b[1;33m(\u001b[0m\u001b[1;33m)\u001b[0m \u001b[1;33m==\u001b[0m \u001b[1;34m\"test용 코드입니다.\"\u001b[0m\u001b[1;33m\u001b[0m\u001b[1;33m\u001b[0m\u001b[0m\n\u001b[0m",
      "\u001b[1;31mAssertionError\u001b[0m: "
     ]
    }
   ],
   "source": [
    "assert test() == \"test용 코드입니다.\""
   ]
  },
  {
   "cell_type": "markdown",
   "id": "1367ebb2",
   "metadata": {},
   "source": [
    "- 함수를 잘못 작성한 경우에는 NameError가 발생합니다.\n",
    "- 잘못된 반환 값을 작성한 경우에 AssertionError가 발생합니다.\n",
    "\n",
    "##### TEST CELL은 건드리지 마시기 바랍니다."
   ]
  },
  {
   "cell_type": "markdown",
   "id": "830e7f33",
   "metadata": {},
   "source": [
    "### 문제"
   ]
  },
  {
   "cell_type": "markdown",
   "id": "8870a69b",
   "metadata": {},
   "source": [
    "#### 1) 전달받은 문자열을 거꾸로 반환하는 함수를 작성하시오. 이때의 함수명은 makeReverse로 한다. \n",
    "\n",
    "##### [입력 예시]\n",
    "makeReverse(“가나다라마바사”)\n",
    "\n",
    "##### [반환 예시]\n",
    "“사바마라다나가”\n",
    "\n",
    "##### [입력 예시]\n",
    "makeReverse(\"기러기토마토스위스인도인별똥별\")\n",
    "\n",
    "##### [반환 예시]\n",
    "\"기러기토마토스위스인도인별똥별\""
   ]
  },
  {
   "cell_type": "code",
   "execution_count": 16,
   "id": "a6ed35b2",
   "metadata": {},
   "outputs": [],
   "source": [
    "# 함수 작성 cell\n",
    "def makeReverse(s):\n",
    "    return s[::-1]"
   ]
  },
  {
   "cell_type": "code",
   "execution_count": 17,
   "id": "6a5fe820",
   "metadata": {},
   "outputs": [],
   "source": [
    "# test\n",
    "assert makeReverse(\"가나다라마바사\") == \"사바마라다나가\""
   ]
  },
  {
   "cell_type": "markdown",
   "id": "fb0a45fc",
   "metadata": {},
   "source": [
    "#### 2) 주어진 이중 리스트의 값 중 가장 큰 값을 반환하는 함수를 작성하시오. 이때의 함수명은 getMaxValue로 한다.\n",
    "\n",
    "##### [입력 예시]\n",
    "getMaxValue([[1, 2, 3], [-1, 2, -3], [10, -3, 2], [2, 5, 6]])\n",
    "\n",
    "##### [반환 예시]\n",
    "10\n"
   ]
  },
  {
   "cell_type": "code",
   "execution_count": 18,
   "id": "21884e99",
   "metadata": {},
   "outputs": [],
   "source": [
    "# 함수 작성 cell\n",
    "def getMaxValue(twoArr):\n",
    "    maxValue = twoArr[0][0]\n",
    "    for lst in twoArr:\n",
    "        maxValue = max(maxValue, max(lst))\n",
    "    return maxValue"
   ]
  },
  {
   "cell_type": "code",
   "execution_count": 19,
   "id": "7dbb904d",
   "metadata": {},
   "outputs": [],
   "source": [
    "# test\n",
    "assert getMaxValue([[1, 2, 3], [-1, 2, -3], [10, -3, 2], [2, 5, 6]]) == 10"
   ]
  },
  {
   "cell_type": "markdown",
   "id": "d8f48424",
   "metadata": {},
   "source": [
    "#### 3) 본인의 주민등록번호 앞자리를 입력받고, 이에 해당하는 문자열을 반환하는 함수를 작성하시오. 이때의 함수명은 getBirthDay로 한다. 단, 잘못된 월이나 일을 입력 받는 경우(문제 7번에서의 2, 3 리턴 조건) False를 리턴하도록 한다. 또한 1924년생부터 2023년생까지 있는 것을 가정한다.\n",
    "\n",
    "##### [입력 예시]\n",
    "getBirthDay(“001011”)\n",
    "\n",
    "##### [반환 예시]\n",
    "“2000년 10월 11일”\n",
    "\n",
    "##### [입력 예시]\n",
    "getBirthDay(“990140”)\n",
    "\n",
    "##### [반환 예시]\n",
    "False\n"
   ]
  },
  {
   "cell_type": "code",
   "execution_count": 28,
   "id": "89cf8e83",
   "metadata": {},
   "outputs": [],
   "source": [
    "# 함수 작성 cell\n",
    "def getBirthDay(birthday):\n",
    "    if not (1 <= int(birthday[2:4]) <= 12 and 1 <= int(birthday[4:]) <= 31):\n",
    "        return False\n",
    "    \n",
    "    if int(birthday[:2]) <= 23:\n",
    "            return \"20\" + birthday[:2] + \"년 \" + birthday[2:4] + \"월 \" + birthday[4:] + \"일\"\n",
    "    \n",
    "    return \"19\" + birthday[:2] + \"년 \" + birthday[2:4] + \"월 \" + birthday[4:] + \"일\""
   ]
  },
  {
   "cell_type": "code",
   "execution_count": 29,
   "id": "186bcadb",
   "metadata": {},
   "outputs": [],
   "source": [
    "# test\n",
    "assert getBirthDay(\"001011\") == \"2000년 10월 11일\"\n",
    "assert getBirthDay(\"990140\") == False"
   ]
  },
  {
   "cell_type": "markdown",
   "id": "49fe406d",
   "metadata": {},
   "source": [
    "#### 4) 문자열 속에 섞여있는 정수들을 모두 더해서 이를 반환하는 함수를 작성하시오. 이때의 함수명은 sumIntegerFromString으로 한다. 단, 이때의 정수는 0부터 9까지만 해당한다.\n",
    "\n",
    "##### [입력 예시]\n",
    "sumIntegerFromString(“123가가나나45다라10”)\n",
    "\n",
    "##### [반환 예시] (1 + 2 + 3 + 4 + 5 + 1 + 0)\n",
    "16\n"
   ]
  },
  {
   "cell_type": "code",
   "execution_count": 30,
   "id": "3a51df09",
   "metadata": {},
   "outputs": [],
   "source": [
    "# 함수 작성 cell\n",
    "def sumIntegerFromString(s):\n",
    "    num = 0\n",
    "    for x in s:\n",
    "        if \"0\" <= x <= \"9\":\n",
    "            num += int(x)\n",
    "    return num"
   ]
  },
  {
   "cell_type": "code",
   "execution_count": 31,
   "id": "ce3478a8",
   "metadata": {},
   "outputs": [],
   "source": [
    "# test\n",
    "assert sumIntegerFromString(\"123가가나나45다라10\") == 16"
   ]
  },
  {
   "cell_type": "markdown",
   "id": "f43d0241",
   "metadata": {},
   "source": [
    "#### 5) 정수 n을 입력받아 n * n 리스트를 만드는 함수를 작성하시오. 이때 i행의 j열의 값은 i*j의 값으로 지정한다. 이때의 함수명은 createMatrix로 지정한다.\n",
    "\n",
    "##### [입력 예시]\n",
    "createMatrix(3)\n",
    "\n",
    "##### [반환 예시]\n",
    "[[1, 2, 3], [2, 4, 6], [3, 6, 9]]\n"
   ]
  },
  {
   "cell_type": "code",
   "execution_count": 34,
   "id": "b5cc46ea",
   "metadata": {},
   "outputs": [],
   "source": [
    "# 함수 작성 cell\n",
    "def createMatrix(n):\n",
    "    arr = []\n",
    "    for i in range(1, n+1):\n",
    "        temp = []\n",
    "        for j in range(1, n+1):\n",
    "            temp.append(i*j)\n",
    "        arr.append(temp)\n",
    "    return arr"
   ]
  },
  {
   "cell_type": "code",
   "execution_count": 35,
   "id": "5d93f9c3",
   "metadata": {},
   "outputs": [],
   "source": [
    "# test\n",
    "assert createMatrix(3) == [[1, 2, 3], [2, 4, 6], [3, 6, 9]]"
   ]
  },
  {
   "cell_type": "markdown",
   "id": "7aea9f05",
   "metadata": {},
   "source": [
    "#### 6) 파라미터를 두 개 전달받아, 해당 값을 범위로 가지는 랜덤 값 중 세 개를 무작위로 선정해 리스트로 만들어서 반환하는 함수를 작성한다. 이때 반환되는 값은 내림차순으로 정렬하여 반환한다. 이때의 함수명은 createRandomValue로 한다. \n",
    "- Hint) random 모듈을 사용하세요.\n",
    "\n",
    "##### [입력 예시]\n",
    "createRandomValue(1, 10)\n",
    "\n",
    "##### [반환 예시] (이 값은 달라질 수 있다.)\n",
    "[7, 4, 2]\n"
   ]
  },
  {
   "cell_type": "code",
   "execution_count": 55,
   "id": "85d4df33",
   "metadata": {},
   "outputs": [],
   "source": [
    "import random\n",
    "# 함수 작성 cell\n",
    "def createRandomValue(s, e):\n",
    "    temp = []\n",
    "    for x in range(s, e+1):\n",
    "        temp.append(x)\n",
    "    return sorted(random.sample(temp, 3), reverse = True)"
   ]
  },
  {
   "cell_type": "code",
   "execution_count": 56,
   "id": "680f169a",
   "metadata": {},
   "outputs": [],
   "source": [
    "# test\n",
    "for i in range(100):\n",
    "    lst = createRandomValue(1, 10)\n",
    "    assert (-1 in map(lambda x: x if 1 <= x <= 10 else -1, lst)) == False\n",
    "    assert lst == sorted(lst, reverse = True)\n",
    "    assert len(lst) == 3"
   ]
  },
  {
   "cell_type": "markdown",
   "id": "71694bc0",
   "metadata": {},
   "source": [
    "#### 7) 파라미터로 문자열을 하나 전달받아 올바른 날짜를 입력받았는지 점검하는 함수를 작성한다. (입력 예시: “20230103”)  이때의 Return 값은 다음으로 설정한다. 이때 함수명은 checkDate로 한다.\n",
    "- False: 전달받은 문자열이 정수로 변환이 불가능한 경우\n",
    "- 1: 전달받은 문자열의 연도가 2023이 아닌 경우\n",
    "- 2: 전달받은 문자열이 잘못된 월을 의미하는 경우 (월이 1부터 12 사이의 값이 아닌 경우)\n",
    "- 3: 전달받은 문자열이 잘못된 일을 의미하는 경우 (일이 1부터 31 사이의 값이 아닌 경우, 편의상 일은 31일까지로 한다.)\n",
    "- True: 전달받은 문자열이 올바른 문자열을 의미하는 경우\n",
    "- 한번에 두 개 이상의 잘못된 문자열을 입력받는 경우에는 낮은 숫자를 리턴한다. ex) 20233040인 경우 2를 리턴\n",
    "\n",
    "##### [입력 예시]\n",
    "checkDate(“이천이십년”)\n",
    "\n",
    "##### [반환 예시]\n",
    "False\n",
    "\n",
    "##### [입력 예시]\n",
    "checkDate(“20220101”)\n",
    "\n",
    "##### [반환 예시]\n",
    "1\n",
    "\n",
    "##### [입력 예시]\n",
    "checkDate(“20230103”)\n",
    "\n",
    "##### [반환 예시]\n",
    "True\n"
   ]
  },
  {
   "cell_type": "code",
   "execution_count": 57,
   "id": "8f8cec58",
   "metadata": {},
   "outputs": [],
   "source": [
    "# 함수 작성 cell\n",
    "def checkDate(s):\n",
    "    for x in s:\n",
    "        if not (\"0\"<= x <= \"9\"):\n",
    "            return False\n",
    "    if s[:4] != \"2023\":\n",
    "        return 1\n",
    "    \n",
    "    if not (1 <= int(s[4:6]) <= 12):\n",
    "        return 2\n",
    "    \n",
    "    if not (1 <= int(s[6:]) <= 31):\n",
    "        return 3\n",
    "    \n",
    "    return True"
   ]
  },
  {
   "cell_type": "code",
   "execution_count": 58,
   "id": "ff4aaa50",
   "metadata": {},
   "outputs": [],
   "source": [
    "# test\n",
    "assert checkDate(\"이천이십년\") == False\n",
    "assert checkDate(\"20220101\") == 1\n",
    "assert checkDate(\"20230103\") == True"
   ]
  },
  {
   "cell_type": "code",
   "execution_count": 64,
   "id": "92e0380e",
   "metadata": {
    "scrolled": true
   },
   "outputs": [
    {
     "name": "stdout",
     "output_type": "stream",
     "text": [
      "1번 문제 통과\n",
      "2번 문제 통과\n",
      "3번 중간 문제 통과\n",
      "3번 추가 문제 통과\n",
      "4번 문제 통과\n",
      "5번 문제 통과\n",
      "6번 문제 통과\n",
      "7번 중간 문제 통과\n",
      "7번 추가 문제 통과\n",
      "100\n"
     ]
    }
   ],
   "source": [
    "# calculate Score\n",
    "score = 0\n",
    "try:\n",
    "    assert makeReverse(\"가나다라마바사\") == \"사바마라다나가\"\n",
    "    assert makeReverse(\"기러기토마토스위스인도인별똥별\") == \"별똥별인도인스위스토마토기러기\"\n",
    "    score += 10\n",
    "    print(\"1번 문제 통과\")\n",
    "except:\n",
    "    print(\"1번 문제 실패\")\n",
    "    pass\n",
    "\n",
    "try:\n",
    "    assert getMaxValue([[1, 2, 3], [-1, 2, -3], [10, -3, 2], [2, 5, 6]]) == 10\n",
    "    assert getMaxValue([[1, 2, 3], [-1, 2, -3], [10, -3, 2], [2, 5, 1000]]) == 1000\n",
    "    score += 15\n",
    "    print(\"2번 문제 통과\")\n",
    "except:\n",
    "    print(\"2번 문제 실패\")\n",
    "    pass\n",
    "\n",
    "try:\n",
    "    assert getBirthDay(\"001011\") == \"2000년 10월 11일\"\n",
    "    assert getBirthDay(\"990140\") == False\n",
    "    score += 10\n",
    "    print(\"3번 중간 문제 통과\")\n",
    "    assert getBirthDay(\"990131\") == \"1999년 01월 31일\"\n",
    "    score += 5\n",
    "    print(\"3번 추가 문제 통과\")\n",
    "except:\n",
    "    print(\"3번 문제 실패\")\n",
    "    pass\n",
    "\n",
    "\n",
    "try:\n",
    "    assert sumIntegerFromString(\"123가가나나45다라10\") == 16\n",
    "    assert sumIntegerFromString(\"123가가나나45다라50\") == 20\n",
    "    score += 10\n",
    "    print(\"4번 문제 통과\")\n",
    "except:\n",
    "    print(\"4번 문제 실패\")\n",
    "    pass\n",
    "\n",
    "try:\n",
    "    assert createMatrix(4) == [[1, 2, 3, 4], [2, 4, 6, 8], [3, 6, 9, 12], [4, 8, 12, 16]]\n",
    "    score += 10\n",
    "    print(\"5번 문제 통과\")\n",
    "except:\n",
    "    print(\"5번 문제 실패\")\n",
    "    pass\n",
    "\n",
    "try:\n",
    "    for i in range(100):\n",
    "        lst = createRandomValue(2, 15)\n",
    "        assert (-1 in map(lambda x: x if 2 <= x <= 15 else -1, lst)) == False\n",
    "        assert lst == sorted(lst, reverse = True)\n",
    "        assert len(lst) == 3\n",
    "    score += 15\n",
    "    print(\"6번 문제 통과\")\n",
    "except:\n",
    "    print(\"6번 문제 실패\")\n",
    "\n",
    "    \n",
    "try:\n",
    "    assert checkDate(\"이천이십년\") == False\n",
    "    assert checkDate(\"20220101\") == 1\n",
    "    assert checkDate(\"20230103\") == True\n",
    "    assert checkDate(\"20232103\") == 2\n",
    "    assert checkDate(\"20230133\") == 3\n",
    "    score += 15\n",
    "    print(\"7번 중간 문제 통과\")\n",
    "    \n",
    "    assert checkDate(\"20232133\") == 2\n",
    "    score += 10\n",
    "    print(\"7번 추가 문제 통과\")\n",
    "    \n",
    "except:\n",
    "    print(\"7번 문제 실패\")\n",
    "    pass\n",
    "\n",
    "\n",
    "print(score)"
   ]
  }
 ],
 "metadata": {
  "kernelspec": {
   "display_name": "Python 3 (ipykernel)",
   "language": "python",
   "name": "python3"
  },
  "language_info": {
   "codemirror_mode": {
    "name": "ipython",
    "version": 3
   },
   "file_extension": ".py",
   "mimetype": "text/x-python",
   "name": "python",
   "nbconvert_exporter": "python",
   "pygments_lexer": "ipython3",
   "version": "3.9.13"
  }
 },
 "nbformat": 4,
 "nbformat_minor": 5
}
