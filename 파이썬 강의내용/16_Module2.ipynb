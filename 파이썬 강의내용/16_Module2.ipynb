{
 "cells": [
  {
   "cell_type": "markdown",
   "id": "b4e96c67",
   "metadata": {},
   "source": [
    "## Module\n",
    "모듈은 특정한 목적에 대해 유용한 변수나 함수, 클래스 등을 모아놓은 파일을 의미합니다.\n",
    "모듈은 파이썬 파일(.py)로 존재합니다.\n",
    "\n",
    "##### 모듈 만들기\n",
    "- 현재 사용하는 파이썬 파일과 같은 디렉터리(폴더 위치)에 파이썬 파일이 있어야 import를 통해 불러올 수 있습니다."
   ]
  },
  {
   "cell_type": "code",
   "execution_count": 4,
   "id": "21f2b12f",
   "metadata": {},
   "outputs": [
    {
     "name": "stdout",
     "output_type": "stream",
     "text": [
      "0.621371\n",
      "0.00220462\n",
      "99.41936\n",
      "2.20462\n"
     ]
    }
   ],
   "source": [
    "import converter\n",
    "print(converter.MILES)\n",
    "print(converter.POUND)\n",
    "\n",
    "print(converter.kilometer_to_miles(160))\n",
    "print(converter.gram_to_pounds(1000))"
   ]
  },
  {
   "cell_type": "markdown",
   "id": "59b8d6c3",
   "metadata": {},
   "source": [
    "##### 별명 붙이기\n",
    "- as를 사용해 별명을 붙여 사용할 수 있습니다.\n",
    "- 특정한 함수 또한 별명을 붙여 사용할 수 있습니다."
   ]
  },
  {
   "cell_type": "code",
   "execution_count": 6,
   "id": "ddd87feb",
   "metadata": {},
   "outputs": [
    {
     "name": "stdout",
     "output_type": "stream",
     "text": [
      "99.41936\n",
      "99.41936\n"
     ]
    }
   ],
   "source": [
    "import converter as cvt\n",
    "print(cvt.kilometer_to_miles(160))\n",
    "\n",
    "from converter import kilometer_to_miles as k_to_m\n",
    "print(k_to_m(160))"
   ]
  },
  {
   "cell_type": "markdown",
   "id": "2edead2b",
   "metadata": {},
   "source": [
    "### 외부 모듈 활용하기\n",
    "파이썬을 설치할 때 기본적으로 설치되는 모듈외에도 추가적인 패키지를 설치하여 사용할수도 있습니다.<br>\n",
    "패키지는 모듈의 집합을 의미하는 것으로 모듈이 모여있는 디렉터리라고 할 수 있습니다.<br>\n",
    "패키지의 추가나 삭제에는 pip라 불리는 패키지 관리자를 사용해야합니다.<br>\n",
    "\n",
    "- 패키지 설치: pip install package\n",
    "- 패키지 삭제: pip uninstall package\n",
    "\n",
    "나중에 여러 개의 모듈을 사용하다보면 모듈의 버전별 충돌이 일어나 오류가 발생할 수 있습니다.<br>\n",
    "이러한 경우에는 패키지를 삭제하거나 모듈의 버전을 다운그레이드해줘 문제를 해결할 수 있습니다."
   ]
  },
  {
   "cell_type": "code",
   "execution_count": 7,
   "id": "f39d41d0",
   "metadata": {
    "collapsed": true
   },
   "outputs": [
    {
     "name": "stdout",
     "output_type": "stream",
     "text": [
      "Collecting pyautoguiNote: you may need to restart the kernel to use updated packages.\n",
      "\n",
      "  Downloading PyAutoGUI-0.9.53.tar.gz (59 kB)\n",
      "Collecting pymsgbox\n",
      "  Using cached PyMsgBox-1.0.9-py3-none-any.whl\n",
      "Collecting PyTweening>=1.0.1\n",
      "  Downloading pytweening-1.0.4.tar.gz (14 kB)\n",
      "Collecting pyscreeze>=0.1.21\n",
      "  Downloading PyScreeze-0.1.28.tar.gz (25 kB)\n",
      "  Installing build dependencies: started\n",
      "  Installing build dependencies: finished with status 'done'\n",
      "  Getting requirements to build wheel: started\n",
      "  Getting requirements to build wheel: finished with status 'done'\n",
      "    Preparing wheel metadata: started\n",
      "    Preparing wheel metadata: finished with status 'done'\n",
      "Collecting pygetwindow>=0.0.5\n",
      "  Using cached PyGetWindow-0.0.9.tar.gz (9.7 kB)\n",
      "Collecting mouseinfo\n",
      "  Using cached MouseInfo-0.1.3.tar.gz (10 kB)\n",
      "Collecting pyrect\n",
      "  Using cached PyRect-0.1.4.tar.gz (15 kB)\n",
      "Collecting pyperclip\n",
      "  Using cached pyperclip-1.8.2.tar.gz (20 kB)\n",
      "Building wheels for collected packages: pyautogui, pygetwindow, pyscreeze, PyTweening, mouseinfo, pyperclip, pyrect\n",
      "  Building wheel for pyautogui (setup.py): started\n",
      "  Building wheel for pyautogui (setup.py): finished with status 'done'\n",
      "  Created wheel for pyautogui: filename=PyAutoGUI-0.9.53-py3-none-any.whl size=36613 sha256=6822568b0e81ff9b1288c3c2abbf95f3cdecbcadde7bd9f698db58aba4420a5a\n",
      "  Stored in directory: c:\\users\\gksql\\appdata\\local\\pip\\cache\\wheels\\d8\\97\\e4\\d2edca92a87d3b5fbfb527264750a17b4ba297b9a7cab6e67f\n",
      "  Building wheel for pygetwindow (setup.py): started\n",
      "  Building wheel for pygetwindow (setup.py): finished with status 'done'\n",
      "  Created wheel for pygetwindow: filename=PyGetWindow-0.0.9-py3-none-any.whl size=11080 sha256=5542470c072b882cf3a7b23bcca538c154db694406ff760d3f471a808ea77ed2\n",
      "  Stored in directory: c:\\users\\gksql\\appdata\\local\\pip\\cache\\wheels\\44\\ab\\20\\423c3a444793767e4e41f8377bc902f77bee212e68dcce85a5\n",
      "  Building wheel for pyscreeze (PEP 517): started\n",
      "  Building wheel for pyscreeze (PEP 517): finished with status 'done'\n",
      "  Created wheel for pyscreeze: filename=PyScreeze-0.1.28-py3-none-any.whl size=13021 sha256=3b6b545f5774dd9061f7a28ef47a4a09003d3357a7f0817f8ab13eab65584a13\n",
      "  Stored in directory: c:\\users\\gksql\\appdata\\local\\pip\\cache\\wheels\\a2\\5b\\86\\99f1d8fac5d92de0ccb3f0d4ad15e3f4278baf75a9b0f20b93\n",
      "  Building wheel for PyTweening (setup.py): started\n",
      "  Building wheel for PyTweening (setup.py): finished with status 'done'\n",
      "  Created wheel for PyTweening: filename=pytweening-1.0.4-py3-none-any.whl size=5854 sha256=1bc62413c0fc4f0feea940a3d50ecd0aea6bb268b8b4a67a9b9654c1dfa704f2\n",
      "  Stored in directory: c:\\users\\gksql\\appdata\\local\\pip\\cache\\wheels\\a4\\5d\\d2\\ba4c8f82163233ffaadcf383c1e34d7d92635d357d13e7b78d\n",
      "  Building wheel for mouseinfo (setup.py): started\n",
      "  Building wheel for mouseinfo (setup.py): finished with status 'done'\n",
      "  Created wheel for mouseinfo: filename=MouseInfo-0.1.3-py3-none-any.whl size=10906 sha256=a71e2c44cf4b16bf9158063d1fae52af6b16e2591f924ce3b4bba96e7ca37301\n",
      "  Stored in directory: c:\\users\\gksql\\appdata\\local\\pip\\cache\\wheels\\61\\73\\b9\\6fb1131ab36e650206e3aa0ad7a68907b41b32ac2d4f75f543\n",
      "  Building wheel for pyperclip (setup.py): started\n",
      "  Building wheel for pyperclip (setup.py): finished with status 'done'\n",
      "  Created wheel for pyperclip: filename=pyperclip-1.8.2-py3-none-any.whl size=11136 sha256=c4b2a41b184689860dbff0c97c205b28a3cdae55637d09ba47766616dc1ad440\n",
      "  Stored in directory: c:\\users\\gksql\\appdata\\local\\pip\\cache\\wheels\\0c\\09\\9e\\49e21a6840ef7955b06d47394afef0058f0378c0914e48b8b8\n",
      "  Building wheel for pyrect (setup.py): started\n",
      "  Building wheel for pyrect (setup.py): finished with status 'done'\n",
      "  Created wheel for pyrect: filename=PyRect-0.1.4-py2.py3-none-any.whl size=9547 sha256=6aff1cd07b93b94a8cb14c15dd2bd5c7c19e71d5c4cc508c389ce724c9c26c4c\n",
      "  Stored in directory: c:\\users\\gksql\\appdata\\local\\pip\\cache\\wheels\\0e\\d4\\c5\\b7f7be24ac0a168fd03d08afcc7c8928ef05cc1e319d1c136b\n",
      "Successfully built pyautogui pygetwindow pyscreeze PyTweening mouseinfo pyperclip pyrect\n",
      "Installing collected packages: pyrect, pyperclip, PyTweening, pyscreeze, pymsgbox, pygetwindow, mouseinfo, pyautogui\n",
      "Successfully installed PyTweening-1.0.4 mouseinfo-0.1.3 pyautogui-0.9.53 pygetwindow-0.0.9 pymsgbox-1.0.9 pyperclip-1.8.2 pyrect-0.1.4 pyscreeze-0.1.28\n"
     ]
    }
   ],
   "source": [
    "# 키보드, 마우스 조작 모듈 설치\n",
    "pip install pyautogui"
   ]
  },
  {
   "cell_type": "code",
   "execution_count": 18,
   "id": "5e824ef9",
   "metadata": {},
   "outputs": [],
   "source": [
    "import pyautogui as pag\n",
    "pag.move(500, 300)\n",
    "pag.click()\n",
    "pag.hotkey('ctrl', 'c')"
   ]
  }
 ],
 "metadata": {
  "kernelspec": {
   "display_name": "Python 3 (ipykernel)",
   "language": "python",
   "name": "python3"
  },
  "language_info": {
   "codemirror_mode": {
    "name": "ipython",
    "version": 3
   },
   "file_extension": ".py",
   "mimetype": "text/x-python",
   "name": "python",
   "nbconvert_exporter": "python",
   "pygments_lexer": "ipython3",
   "version": "3.9.7"
  }
 },
 "nbformat": 4,
 "nbformat_minor": 5
}
