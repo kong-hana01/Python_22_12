{
 "cells": [
  {
   "cell_type": "markdown",
   "id": "cb677210",
   "metadata": {},
   "source": [
    "## Variable\n",
    "##### 변수란 어떤 객체의 메모리 주소를 가지고 있는 것을 의미합니다.\n",
    "- 객체: ``데이터 타입``과 함께 ``주소``를 가지는 ``값``을 의미합니다.\n",
    "- 프로그래밍에서 변수는 수학에서의 변수와 비슷하게 값을 변경할 수 있습니다.\n",
    "\n",
    "cf)\n",
    "1. 수학에서의 변수: x + 3 = 5 => x = 2\n",
    "2. 프로그래밍에서의 변수: x = 2; x + 3; >> 5\n",
    "\n",
    "즉, 변수는 어떤 객체의 메모리 주소를 가지고 있어서 해당 변수를 불렀을 때, <br>\n",
    "해당 변수가 가지고 있는 메모리 주소에 있는 값에 접근할 수 있습니다.\n",
    "\n",
    "### 할당 연산자\n",
    "변수에 ``주소 값``을 넘겨주는 것을 ``할당``한다라고 표현합니다.<br>\n",
    "- 할당 연산자는 =로 표현합니다.\n",
    "- '같다'를 의미하는 ==과는 다른 표현입니다."
   ]
  },
  {
   "cell_type": "code",
   "execution_count": 5,
   "id": "fc1cdd78",
   "metadata": {},
   "outputs": [
    {
     "name": "stdout",
     "output_type": "stream",
     "text": [
      "한빈\n"
     ]
    }
   ],
   "source": [
    "name = '한빈'\n",
    "print(name)"
   ]
  },
  {
   "cell_type": "code",
   "execution_count": 9,
   "id": "772cb767",
   "metadata": {},
   "outputs": [
    {
     "name": "stdout",
     "output_type": "stream",
     "text": [
      "2\n",
      "2492592187728\n",
      "3\n",
      "2492592187760\n",
      "3 2\n",
      "2 2\n",
      "2 3\n",
      "2 3\n"
     ]
    }
   ],
   "source": [
    "# Variable\n",
    "# id(): 객체의 주소값 반환\n",
    "a = 2\n",
    "print(a)\n",
    "print(id(a)) # 컴퓨터마다 다른 값이 나옵니다.\n",
    "\n",
    "a = 3\n",
    "print(a)\n",
    "print(id(a)) # 2를 넣었을 때랑 다른 값이 출력"
   ]
  },
  {
   "cell_type": "code",
   "execution_count": 12,
   "id": "c3ea3318",
   "metadata": {},
   "outputs": [
    {
     "name": "stdout",
     "output_type": "stream",
     "text": [
      "5\n",
      "3 2\n",
      "5\n"
     ]
    }
   ],
   "source": [
    "# 변수간 연산\n",
    "a = 3\n",
    "b = 2\n",
    "print(a + b)\n",
    "\n",
    "# 파이썬 스타일의 값 할당\n",
    "a, b = 3, 2\n",
    "print(a, b)\n",
    "\n",
    "a = 3\n",
    "print(a + 2)"
   ]
  },
  {
   "cell_type": "markdown",
   "id": "e241ce6b",
   "metadata": {},
   "source": [
    "### 변수명 사용 규칙\n",
    "변수명 사용은 무조건 지켜야하는 규칙과 권장하는 규칙이 있습니다.\n",
    "1. 변수의 이름은 숫자로 먼저 시작할 수 없습니다.\n",
    "    - ex) 123choi (x) / 0han (x) / bin123 (o)\n",
    "2. 변수의 이름은 언더바(_) 이외의 기호가 들어가면 변수로 사용할 수 없습니다.\n",
    "    - ex) _choi (o) / han! (x) / bin' (x) / no-way (x)\n",
    "3. 파이썬에서의 예약어는 변수명으로 사용할 수 없습니다.\n",
    "    - ex) if (x) / while (x) / for (x) / if_ (o)\n",
    "4. 파이썬 내장함수는 변수명으로 사용하지 않는 것을 권장합니다.\n",
    "    - ex) type (x) / str (x) / print (x)\n",
    "5. 변수명은 의미를 알기 쉽게 짓는 것을 추천합니다.\n",
    "    - ex) name (o) / age (o) / studentName (o) / asdasdasdas (x) / a (x)\n",
    "    - cf) temp: 임시로 변수를 사용할 때 씁니다."
   ]
  },
  {
   "cell_type": "code",
   "execution_count": 25,
   "id": "4a184743",
   "metadata": {
    "scrolled": true
   },
   "outputs": [
    {
     "name": "stdout",
     "output_type": "stream",
     "text": [
      "1\n",
      "1\n",
      "1\n",
      "1\n",
      "123\n"
     ]
    }
   ],
   "source": [
    "# 올바른 변수 사용 예시\n",
    "# 1. 숫자 사용\n",
    "var1 = 1\n",
    "print(var1)\n",
    "# 1var = 1 SyntaxError\n",
    "\n",
    "# 2. 기호 사용 (_)\n",
    "var_ = var1\n",
    "print(var_)\n",
    "\n",
    "_var = var1 # 가능\n",
    "print(_var)\n",
    "\n",
    "# var! = 1 SyntaxError\n",
    "\n",
    "# 3. 예약어는 변수명으로 사용할 수 없습니다.\n",
    "# if = 1 SyntaxError\n",
    "if_ = 1 # 가능\n",
    "print(if_)\n",
    "\n",
    "# 4. 내장함수는 변수명으로 사용하지 않는 것을 권장합니다.\n",
    "type = 123\n",
    "print(type)\n",
    "# print(type(1))\n",
    "\n",
    "# 5. 의미를 알기 쉽게 변수명을 사용합니다.\n",
    "aaaaaa = '최한빈' # x\n",
    "\n",
    "name = '최한빈' # o\n",
    "myName = '최한빈' # o\n",
    "my_name = '최한빈' # o"
   ]
  },
  {
   "cell_type": "markdown",
   "id": "a4e06a3b",
   "metadata": {},
   "source": [
    "### 변수 간 값 바꾸기\n",
    "1. 임시 변수를 만들어서 값을 바꿔준다. (프로그래밍 언어 공통)\n",
    "2. 파이썬 스타일로 값을 바꿔준다."
   ]
  },
  {
   "cell_type": "code",
   "execution_count": 26,
   "id": "1e86fc7a",
   "metadata": {},
   "outputs": [
    {
     "name": "stdout",
     "output_type": "stream",
     "text": [
      "3 2\n",
      "2 2\n",
      "2 3\n",
      "2 3\n",
      "6 5 4 3 2 1\n"
     ]
    }
   ],
   "source": [
    "# 다른 프로그래밍 언어에서 변수의 값을 바꿀 때 사용하는 방법\n",
    "a = 3\n",
    "b = 2\n",
    "print(a, b) # 3 2\n",
    "\n",
    "a = b\n",
    "b = a\n",
    "print(a, b) # 2 2\n",
    "\n",
    "# 1번 방식\n",
    "a = 3\n",
    "b = 2\n",
    "temp = a\n",
    "a = b\n",
    "b = temp\n",
    "print(a, b) # 2 3\n",
    "\n",
    "# 파이썬 스타일 (2번 방식)\n",
    "a = 3\n",
    "b = 2\n",
    "a, b = b, a\n",
    "print(a, b) # 2 3\n",
    "\n",
    "a, b, c, d, e, f = 1, 2, 3, 4, 5, 6\n",
    "f, e, d, c, b, a = a, b, c, d, e, f\n",
    "print(a, b, c, d, e, f)"
   ]
  }
 ],
 "metadata": {
  "kernelspec": {
   "display_name": "Python 3 (ipykernel)",
   "language": "python",
   "name": "python3"
  },
  "language_info": {
   "codemirror_mode": {
    "name": "ipython",
    "version": 3
   },
   "file_extension": ".py",
   "mimetype": "text/x-python",
   "name": "python",
   "nbconvert_exporter": "python",
   "pygments_lexer": "ipython3",
   "version": "3.9.7"
  }
 },
 "nbformat": 4,
 "nbformat_minor": 5
}
