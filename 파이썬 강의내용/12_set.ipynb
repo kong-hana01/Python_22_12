{
 "cells": [
  {
   "cell_type": "markdown",
   "id": "bb1e6032",
   "metadata": {},
   "source": [
    "## set\n",
    "![파이썬 데이터 타입](01_Data_type.jpg)"
   ]
  },
  {
   "cell_type": "markdown",
   "id": "43e399c9",
   "metadata": {},
   "source": [
    "### 파이썬 집합 데이터\n",
    "- list: 순서가 있다. 중복을 허용한다. mutable\n",
    "- tuple: 순서가 있다. 중복을 허용한다. immutable\n",
    "- set: 순서가 없다. 중복을 허용하지 않는다.\n",
    "- dict: key와 value 쌍으로 구성된다. 순서가 없다.\n",
    "\n",
    "### set\n",
    "- set은 {,}로 구분된 집합 데이터입니다.\n",
    "- set은 순서가 없기 때문에 인덱싱이 불가능합니다."
   ]
  },
  {
   "cell_type": "code",
   "execution_count": 4,
   "id": "d2ac886b",
   "metadata": {},
   "outputs": [
    {
     "name": "stdout",
     "output_type": "stream",
     "text": [
      "{'bird', 'cat', 'dog'} <class 'set'> 3\n"
     ]
    }
   ],
   "source": [
    "# set의 기본 구조\n",
    "animals = {'dog', 'cat', 'bird', 'cat', 'dog'}\n",
    "print(animals, type(animals), len(animals)) # set의 주요한 특징 1: 중복을 허용하지 않는다.\n",
    "\n",
    "# set의 주요한 특징 2: 인덱싱이 불가능하다.\n",
    "# print(animals[0]) TypeError "
   ]
  },
  {
   "cell_type": "markdown",
   "id": "e5b085d1",
   "metadata": {},
   "source": [
    "### set\n",
    "- add(value): set에 value 추가 -> 중복된 경우에는 추가 x\n",
    "- remove(value): set에 value 삭제\n",
    "- s1.intersection(s2): set 간의 교집합\n",
    "- s1.union(s2): set 간의 합집합\n",
    "- s1.difference(s2): s1과 s2의 차집합"
   ]
  },
  {
   "cell_type": "code",
   "execution_count": 19,
   "id": "772308ba",
   "metadata": {},
   "outputs": [
    {
     "name": "stdout",
     "output_type": "stream",
     "text": [
      "{'bird', 'cat', 'dog'}\n",
      "{'bird', 'whale', 'cat', 'dog'}\n",
      "{'bird', 'whale', 'cat', 'dog'}\n",
      "{'bird', 'cat', 'dog'}\n",
      "{1, 2, 3, 4} {3, 4, 5, 6}\n",
      "{3, 4}\n",
      "{3, 4}\n",
      "{1, 2, 3, 4, 5, 6}\n",
      "{1, 2, 3, 4, 5, 6}\n",
      "{1, 2}\n",
      "{1, 2}\n"
     ]
    }
   ],
   "source": [
    "# add\n",
    "animals = {'dog', 'cat', 'bird', 'cat', 'dog'}\n",
    "print(animals)\n",
    "animals.add('whale') # whale 추가\n",
    "print(animals) # 순서가 없기 때문에 print할 때 순서와 관계 없이 원소가 출력됩니다.\n",
    "animals.add('whale')\n",
    "print(animals) # 중복된 경우에는 value 추가 x\n",
    "\n",
    "# remove\n",
    "animals.remove('whale')\n",
    "print(animals)\n",
    "# animals.remove('whale') KeyError\n",
    "\n",
    "# intersection\n",
    "s1 = set([1, 2, 3, 4])\n",
    "s2 = set([3, 4, 5, 6])\n",
    "print(s1, s2)\n",
    "\n",
    "print(s1.intersection(s2)) # 교집합 {3, 4}\n",
    "print(s1 & s2) # 교집합 표현 방법 2\n",
    "\n",
    "# union\n",
    "print(s1.union(s2)) # 합집합 {1, 2, 3, 4, 5, 6}\n",
    "print(s1 | s2) # 합집합 표현 방법 2\n",
    "\n",
    "# difference\n",
    "print(s1.difference(s2)) # 차집합 {1, 2}\n",
    "print(s1 - s2) # 차집합 표현 방법 2"
   ]
  },
  {
   "cell_type": "markdown",
   "id": "d86a1b15",
   "metadata": {},
   "source": [
    "## 심화 내용\n",
    "### set의 활용 용도\n",
    "1. 중복된 값을 제거하기 위해서 사용합니다.\n",
    "2. 해쉬값을 사용해 더 빠른 탐색을 위해 사용합니다. (데이터가 있는지 없는지 탐색)\n",
    "    - ex) in 연산자"
   ]
  },
  {
   "cell_type": "code",
   "execution_count": 100,
   "id": "9e223869",
   "metadata": {
    "scrolled": true
   },
   "outputs": [
    {
     "name": "stdout",
     "output_type": "stream",
     "text": [
      "{1, 2, 3, 4, 5, 10}\n",
      "1643075697.2257798\n",
      "True\n",
      "True\n",
      "List에서 in 연산자를 통한 검색 시간: 0.647초\n",
      "Set에서 in 연산자를 통한 검색 시간: 0.000초\n"
     ]
    }
   ],
   "source": [
    "# 1. 중복된 값 제거\n",
    "number = [1, 2, 3, 4, 5, 4, 4, 4, 2, 1, 2, 10]\n",
    "print(set(number))\n",
    "\n",
    "# 2. 해쉬 값을 이용한 빠른 탐색\n",
    "import time # time 라이브러리 -> 시간 체크할 때 사용\n",
    "print(time.time()) # 1970년 1월 1일 0시 0분 0초부터 지금까지의 경과 시간 (단위: 초)\n",
    "\n",
    "'''start_time = time.time()\n",
    "for i in range(10000000):\n",
    "    pass\n",
    "end_time = time.time()\n",
    "print(end_time - start_time)\n",
    "'''\n",
    "# set과 list에 값(0 ~ (10**8 - 1))을 추가\n",
    "tempList = []\n",
    "tempSet = set([])\n",
    "for i in range(10 ** 8):\n",
    "    tempList.append(i)\n",
    "    tempSet.add(i)\n",
    "\n",
    "# list에 99999999 값이 존재하는 지 판단하는데 걸리는 시간 체크\n",
    "startTimeL = time.time()\n",
    "print(99999999 in tempList)\n",
    "endTimeL = time.time()\n",
    "elapsedTimeL = endTimeL - startTimeL\n",
    "\n",
    "# set에 99999999 값이 존재하는 지 판단하는데 걸리는 시간 체크\n",
    "startTimeS = time.time()\n",
    "print(99999999 in tempSet)\n",
    "endTimeS = time.time()\n",
    "elapsedTimeS = endTimeS - startTimeS\n",
    "\n",
    "print('List에서 in 연산자를 통한 검색 시간: {:.3f}초'.format(elapsedTimeL))\n",
    "print('Set에서 in 연산자를 통한 검색 시간: {:.3f}초'.format(elapsedTimeS))"
   ]
  }
 ],
 "metadata": {
  "kernelspec": {
   "display_name": "Python 3 (ipykernel)",
   "language": "python",
   "name": "python3"
  },
  "language_info": {
   "codemirror_mode": {
    "name": "ipython",
    "version": 3
   },
   "file_extension": ".py",
   "mimetype": "text/x-python",
   "name": "python",
   "nbconvert_exporter": "python",
   "pygments_lexer": "ipython3",
   "version": "3.9.7"
  }
 },
 "nbformat": 4,
 "nbformat_minor": 5
}
