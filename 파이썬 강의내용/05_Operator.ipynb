{
 "cells": [
  {
   "cell_type": "markdown",
   "id": "08fdc07e",
   "metadata": {},
   "source": [
    "## Operator\n",
    "프로그래밍 언어는 다양한 연산자가 존재합니다.<br>\n",
    "연산자 간에는 우선 순위가 존재합니다.<br>\n",
    "- 산술 연산자, 관계 연산자, 논리 연산자\n",
    "\n",
    "### 삼항 연산자\n",
    "삼항 연산자는 코드를 간단하게 작성하기에 매우 편리한 도구입니다.<br>\n",
    "삼항 연산자의 구조는 다음과 같습니다.<br>\n",
    "(조건문이 참인 경우의 동작) (if 조건 else) (조건문이 거짓인 경우의 동작)"
   ]
  },
  {
   "cell_type": "code",
   "execution_count": 4,
   "id": "f481cf7f",
   "metadata": {},
   "outputs": [
    {
     "name": "stdout",
     "output_type": "stream",
     "text": [
      "1\n",
      "0\n",
      "0\n",
      "1\n"
     ]
    }
   ],
   "source": [
    "# 삼항 연산자\n",
    "print(1 if True else 0) # 1\n",
    "print(1 if False else 0) # 0\n",
    "\n",
    "print(1 if 2 > 2 else 0) # 0\n",
    "print(1 if True and False and False or True else 0) # 1"
   ]
  },
  {
   "cell_type": "markdown",
   "id": "dc237d0b",
   "metadata": {},
   "source": [
    "### 연산자 우선순위\n",
    "연산자를 사용할 때 Semantic error(논리적 오류)를 방지하기 위해서는 연산자 우선순위를 제대로 아는 것이 중요합니다.<br>\n",
    "프로그래밍 또한 수학에서의 연산자 우선순위와 비슷합니다.<br>\n",
    "\n",
    "일반적인 연산자 우선순위\n",
    "- 단항 연산자 > 이항 연산자\n",
    "- 산술 연산자 > 관계 연산자 > 논리 연산자\n",
    "\n",
    "\n",
    "|연산자|설명|연산자 종류|이항/단항|\n",
    "|:---:|:---:|:---:|:---:|\n",
    "|**|제곱|산술 연산자|단항|\n",
    "|+x, -x, ~x|양의 부호, 음의 부호, 비트 연산자 Not|산술 연산자|단항|\n",
    "|*, /, //, %|곱하기, 나누기, 정수 나누기, 나머지|산술 연산자|이항|\n",
    "|+, -|덧셈, 뺄셈|산술 연산자|이항|\n",
    "|<<, >>|비트 연산자 shift|비트 연산자|단항|\n",
    "|&|비트 연산자 and|비트 연산자|이항|\n",
    "|^|비트 연산자 XOR|비트 연산자|이항|\n",
    "|\\||비트 연산자 OR|비트 연산자|이항|\n",
    "|in, not in, is, is not, <, <=, >, >=, !=, ==|비교를 위한 관계 연산자|관계 연산자|이항|\n",
    "|not x|not|논리 연산자|단항|\n",
    "|and|and|논리 연산자|이항|\n",
    "|or|or|논리 연산자|이항|\n",
    "|if-else|조건문|-|-|\n",
    "|lambda|lambda 구문|-|-|\n",
    "|:=|할당 연산자|-|-|\n",
    "\n",
    "https://docs.python.org/3/reference/expressions.html\n",
    "[파이썬 연산자 우선순위 사이트]"
   ]
  },
  {
   "cell_type": "code",
   "execution_count": 6,
   "id": "70aef68d",
   "metadata": {},
   "outputs": [
    {
     "name": "stdout",
     "output_type": "stream",
     "text": [
      "참\n",
      "True\n",
      "False\n"
     ]
    }
   ],
   "source": [
    "# 연산자 우선순위 연습하기\n",
    "if 1 > 2 or 2 < 3: # if False or 2 < 3  -> if False or True -> if True\n",
    "    print('참')\n",
    "else:\n",
    "    print('거짓')\n",
    "    \n",
    "print(2**5 > 3 + 7) # 32 > 3 + 7 -> 32 > 10 -> True\n",
    "print(not True and not False) # False and not False -> False and True -> False"
   ]
  }
 ],
 "metadata": {
  "kernelspec": {
   "display_name": "Python 3 (ipykernel)",
   "language": "python",
   "name": "python3"
  },
  "language_info": {
   "codemirror_mode": {
    "name": "ipython",
    "version": 3
   },
   "file_extension": ".py",
   "mimetype": "text/x-python",
   "name": "python",
   "nbconvert_exporter": "python",
   "pygments_lexer": "ipython3",
   "version": "3.9.7"
  }
 },
 "nbformat": 4,
 "nbformat_minor": 5
}
