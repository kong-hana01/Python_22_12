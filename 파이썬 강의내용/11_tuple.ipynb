{
 "cells": [
  {
   "cell_type": "markdown",
   "id": "0984ac41",
   "metadata": {},
   "source": [
    "## tuple\n",
    "tuple은 파이썬에서 순서가 있는(Sequencial) 자료구조 프레임워크입니다.<br>\n",
    "![파이썬 데이터 타입](01_Data_type.jpg)"
   ]
  },
  {
   "cell_type": "markdown",
   "id": "5a63d6cb",
   "metadata": {},
   "source": [
    "### 파이썬 집합 데이터\n",
    "- list: 순서가 있다. 중복을 허용한다. mutable\n",
    "- tuple: 순서가 있다. 중복을 허용한다. immutable\n",
    "- set: 순서가 없다. 중복을 허용하지 않는다.\n",
    "- dict: key와 value 쌍으로 구성된다. 순서가 없다.\n",
    "\n",
    "### tuple\n",
    "- tuple은 ``,``로 구분된 집합 데이터입니다.\n",
    "- tuple은 인덱싱, 슬라이싱을 통한 원소 검색이 가능합니다."
   ]
  },
  {
   "cell_type": "code",
   "execution_count": 8,
   "id": "81ece7ea",
   "metadata": {},
   "outputs": [
    {
     "name": "stdout",
     "output_type": "stream",
     "text": [
      "('dog', 'cat', 'bird', 'fish', 'tiger') <class 'tuple'>\n",
      "('dog', 'cat', 'bird') <class 'tuple'>\n",
      "['dog'] <class 'list'>\n",
      "dog <class 'str'>\n",
      "('dog',) <class 'tuple'>\n",
      "dog\n",
      "('cat', 'bird') <class 'tuple'>\n"
     ]
    }
   ],
   "source": [
    "# tuple 기본구조\n",
    "animals = ('dog', 'cat', 'bird', 'fish', 'tiger')\n",
    "print(animals, type(animals))\n",
    "\n",
    "# tuple은 ,로 구분된 집합 데이터입니다.\n",
    "# ()가 없어도 튜플이고, 튜플의 본질은 ,에 있다.\n",
    "animals2 = 'dog', 'cat', 'bird'\n",
    "print(animals2, type(animals2))\n",
    "\n",
    "# 원소가 하나인 리스트\n",
    "animalsList = ['dog']\n",
    "print(animalsList, type(animalsList))\n",
    "\n",
    "animals3 = 'dog'\n",
    "print(animals3, type(animals3)) # dog -> str\n",
    "\n",
    "# 첫 원소 뒤에 , 하나를 붙이면 tuple이 됩니다.\n",
    "animals3 = 'dog',\n",
    "print(animals3, type(animals3))\n",
    "\n",
    "# index\n",
    "print(animals[0])\n",
    "print(animals[1:3], type(animals[1:3]))"
   ]
  },
  {
   "cell_type": "markdown",
   "id": "ae3924b9",
   "metadata": {},
   "source": [
    "### tuple 연산자\n",
    "- +: tuple 사이에 + 연산을 하면 두 개의 tuple을 합한 tuple이 나옵니다. # list와 비슷\n",
    "- *: tuple * 정수를 연산하면 해당 tuple이 정수배만큼 추가된 tuple이 나옵니다. # list와 비슷\n",
    "- in: tuple에 데이터가 존재하는지 bool 타입으로 반환 (True/False)"
   ]
  },
  {
   "cell_type": "code",
   "execution_count": 15,
   "id": "f324d13c",
   "metadata": {},
   "outputs": [
    {
     "name": "stdout",
     "output_type": "stream",
     "text": [
      "('dog', 'cat', 'bird', 'fish', 'tiger')\n",
      "('dog', 'cat', 'bird', 'fish', 'tiger', 'eagle')\n",
      "('dog', 'cat', 'bird', 'fish', 'tiger', 'dog', 'cat', 'bird', 'fish', 'tiger')\n",
      "True\n",
      "False\n"
     ]
    }
   ],
   "source": [
    "# + 연산자\n",
    "print(animals)\n",
    "print(animals + ('eagle',))\n",
    "\n",
    "# * 연산자\n",
    "print(animals * 2)\n",
    "\n",
    "# in 연산자\n",
    "print('dog' in animals)\n",
    "print('whale' in animals)"
   ]
  },
  {
   "cell_type": "markdown",
   "id": "e0dbcf4f",
   "metadata": {},
   "source": [
    "### immutable \n",
    "tuple의 데이터는 수정할 수 없습니다.\n",
    "\n",
    "#### 그렇기 때문에 ``tuple``은\n",
    "1. 주로 ``변경되지 말아야할 데이터``들을 저장할 때 사용합니다.\n",
    "2. 복수의 값을 ``전달``하기 위한 목적으로 사용합니다.\n",
    "\n",
    "```python\n",
    "a, b, c = 1, 2, 3 # tuple을 사용해 값을 대입\n",
    "a, b = b, a # tuple을 사용해 값을 바꾸기\n",
    "```"
   ]
  },
  {
   "cell_type": "code",
   "execution_count": 18,
   "id": "94367d30",
   "metadata": {},
   "outputs": [
    {
     "name": "stdout",
     "output_type": "stream",
     "text": [
      "100 200\n",
      "100 200\n",
      "100 200\n"
     ]
    }
   ],
   "source": [
    "# 여러 개의 데이터 할당\n",
    "# 1. list\n",
    "rec = [100, 200]\n",
    "width = rec[0]\n",
    "height = rec[1]\n",
    "print(width, height)\n",
    "\n",
    "# 2. tuple\n",
    "rec = 100, 200\n",
    "width, height = rec\n",
    "print(width, height)\n",
    "\n",
    "# 3. list -> 한번에 값 전달\n",
    "width, height = [100, 200] # input().split()\n",
    "print(width, height)"
   ]
  }
 ],
 "metadata": {
  "kernelspec": {
   "display_name": "Python 3 (ipykernel)",
   "language": "python",
   "name": "python3"
  },
  "language_info": {
   "codemirror_mode": {
    "name": "ipython",
    "version": 3
   },
   "file_extension": ".py",
   "mimetype": "text/x-python",
   "name": "python",
   "nbconvert_exporter": "python",
   "pygments_lexer": "ipython3",
   "version": "3.9.7"
  }
 },
 "nbformat": 4,
 "nbformat_minor": 5
}
